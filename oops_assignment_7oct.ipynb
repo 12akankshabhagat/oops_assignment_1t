{
 "cells": [
  {
   "cell_type": "code",
   "execution_count": null,
   "id": "26ac310b-1925-40bc-8308-a489efe285b3",
   "metadata": {},
   "outputs": [],
   "source": []
  },
  {
   "cell_type": "code",
   "execution_count": null,
   "id": "6231873f-8570-4ac6-b35c-8bc987123c0b",
   "metadata": {},
   "outputs": [],
   "source": [
    "# oops assignment : 1"
   ]
  },
  {
   "cell_type": "markdown",
   "id": "4b47f2ac-a325-4295-b852-8ea850b0a43e",
   "metadata": {},
   "source": [
    "### Q1:Bank Account Create a class representing a bank account with attributes like account number, account holder name, and balance.Implement methods to deposit and withdraw money from the account.\n"
   ]
  },
  {
   "cell_type": "code",
   "execution_count": 1,
   "id": "02e66fed-1640-4c30-85c3-3380d21fc167",
   "metadata": {},
   "outputs": [],
   "source": [
    "class bankaccount: \n",
    "    \n",
    "    def __init__(self ,account_no , account_holder_name, balance):\n",
    "        self.account_no = account_no\n",
    "        self.name = account_holder_name\n",
    "        self.balance = balance\n",
    "        \n",
    "        \n",
    "    def deposite(self,amount):\n",
    "        print(\"i am trying to deposite an amount in my account\")\n",
    "        \n",
    "        \n",
    "    def withdraw(self,amt_with):\n",
    "        print(\"withdraw the amount\")  \n",
    "        "
   ]
  },
  {
   "cell_type": "code",
   "execution_count": 2,
   "id": "2cb8977d-284c-4bc1-b101-c909a28ac0ae",
   "metadata": {},
   "outputs": [],
   "source": [
    "akanksha = bankaccount('1209' , 'akanksha bhagat' ,10000)"
   ]
  },
  {
   "cell_type": "code",
   "execution_count": 3,
   "id": "d9c6d5e7-fc14-44d4-a425-0c368b86b112",
   "metadata": {},
   "outputs": [
    {
     "name": "stdout",
     "output_type": "stream",
     "text": [
      "i am trying to deposite an amount in my account\n"
     ]
    }
   ],
   "source": [
    "akanksha.deposite(500)"
   ]
  },
  {
   "cell_type": "code",
   "execution_count": 4,
   "id": "4d649a0d-217c-49d6-b31f-caba21dbe13e",
   "metadata": {},
   "outputs": [
    {
     "name": "stdout",
     "output_type": "stream",
     "text": [
      "withdraw the amount\n"
     ]
    }
   ],
   "source": [
    "akanksha.withdraw(1000)"
   ]
  },
  {
   "cell_type": "markdown",
   "id": "a47b4843-d49d-435e-9ad4-c405c9c893ff",
   "metadata": {},
   "source": [
    "### Q2: Employee Management Create a class representing an employee with attributes like employee ID, name, and salary. Implement methods to calculate the yearly bonus and display employee details."
   ]
  },
  {
   "cell_type": "code",
   "execution_count": 5,
   "id": "ae264c73-e413-4940-bf20-fb03a14e8253",
   "metadata": {},
   "outputs": [],
   "source": [
    "class employee:\n",
    "    \n",
    "    def __init__(self , employee_ID, name , salary):\n",
    "        self.employee_id = employee_ID\n",
    "        self.name = name\n",
    "        self.salary = salary\n",
    "        \n",
    "    def calculate_yearly_bonus(self , bonus):\n",
    "        print(\"employee get bonus of 2000 rs\")\n",
    "        \n",
    "    def employee_details(self , employee_details):\n",
    "        print(\"details of  employee 'akanksha bhagat\")\n",
    "        \n",
    "    "
   ]
  },
  {
   "cell_type": "code",
   "execution_count": 6,
   "id": "03d0df19-3760-44b7-a808-8674938e11b5",
   "metadata": {},
   "outputs": [],
   "source": [
    "employeeA = employee('12' , 'akanksha bhagat ' , 120000)"
   ]
  },
  {
   "cell_type": "code",
   "execution_count": 7,
   "id": "f3d73542-96cd-405d-a9fa-5e489cc1387d",
   "metadata": {},
   "outputs": [
    {
     "name": "stdout",
     "output_type": "stream",
     "text": [
      "employee get bonus of 2000 rs\n"
     ]
    }
   ],
   "source": [
    "employeeA.calculate_yearly_bonus(2)"
   ]
  },
  {
   "cell_type": "code",
   "execution_count": 8,
   "id": "9bfb7b0e-1973-4050-a626-ce8041ec055d",
   "metadata": {},
   "outputs": [
    {
     "name": "stdout",
     "output_type": "stream",
     "text": [
      "details of  employee 'akanksha bhagat\n"
     ]
    }
   ],
   "source": [
    "employeeA.employee_details( 'akanksha bhagat ' )"
   ]
  },
  {
   "cell_type": "code",
   "execution_count": null,
   "id": "ba1e212c-96c2-47f2-a269-ca755bb69284",
   "metadata": {},
   "outputs": [],
   "source": []
  },
  {
   "cell_type": "markdown",
   "id": "b4dcb0de-65f2-42bd-8319-1411d7752b87",
   "metadata": {},
   "source": [
    "### 3. Vehicle Rental Create a class representing a vehicle rental system. Implement methods to rent a vehicle, return a vehicle, and display available vehicles."
   ]
  },
  {
   "cell_type": "code",
   "execution_count": 10,
   "id": "ad890c5f-d336-4364-b610-f0fa27413905",
   "metadata": {},
   "outputs": [],
   "source": [
    "class Vehicle:\n",
    "    def __init__(self, vehicle_id, model, available=True):\n",
    "        self.vehicle_id = vehicle_id\n",
    "        self.model = model\n",
    "        self.available = available\n",
    "   \n",
    "    def __str__(self):\n",
    "        return f\"{self.model} (ID: {self.vehicle_id})\"\n",
    "\n",
    "class VehicleRentalSystem:\n",
    "    def __init__(self):\n",
    "        self.vehicles = []\n",
    "    def add_vehicle(self, vehicle):\n",
    "        self.vehicles.append(vehicle)\n",
    "   \n",
    "    def rent_vehicle(self, vehicle_id):\n",
    "         for vehicle in self.vehicles:\n",
    "            if vehicle.vehicle_id == vehicle_id:\n",
    "                print(\"Vehicle  rented successfully.\")\n",
    "            else:\n",
    "                print(\"Vehicle  is not  for rent.\")\n",
    "                    \n",
    "    def return_vehicle(self, vehicle_id):\n",
    "         for vehicle in self.vehicles:\n",
    "            if vehicle.vehicle_id == vehicle_id:\n",
    "                print(\"Vehicle  returned successfully.\")\n",
    "            else:\n",
    "                print(\"Vehicle is not return successfully\")\n",
    "                    \n",
    "    def display_available_vehicles(self):\n",
    "        available_vehicles = [vehicle for vehicle in self.vehicles if vehicle.available]\n",
    "        if available_vehicles:\n",
    "            print(\"Available Vehicles:\")\n",
    "            for vehicle in available_vehicles:\n",
    "                print(vehicle)\n",
    "        else:\n",
    "            print(\"No vehicles available.\")\n",
    "if __name__ == \"__main__\":\n",
    "    rental_system = VehicleRentalSystem()\n",
    "    rental_system.add_vehicle(Vehicle(\"1\", \"RA120\", \"120\"))        "
   ]
  },
  {
   "cell_type": "code",
   "execution_count": 11,
   "id": "7e6ec7aa-cdda-4a3f-b258-a65608ff03c2",
   "metadata": {},
   "outputs": [
    {
     "name": "stdout",
     "output_type": "stream",
     "text": [
      "Vehicle  rented successfully.\n"
     ]
    }
   ],
   "source": [
    "rental_system.rent_vehicle(\"1\")"
   ]
  },
  {
   "cell_type": "code",
   "execution_count": 12,
   "id": "7b83a2d8-b3c7-494d-a4ec-4c53e88ff973",
   "metadata": {},
   "outputs": [
    {
     "name": "stdout",
     "output_type": "stream",
     "text": [
      "Vehicle  returned successfully.\n"
     ]
    }
   ],
   "source": [
    "rental_system.return_vehicle(\"1\")"
   ]
  },
  {
   "cell_type": "code",
   "execution_count": 13,
   "id": "353814f9-78b8-4d9e-af7d-8756e85bec5c",
   "metadata": {},
   "outputs": [
    {
     "name": "stdout",
     "output_type": "stream",
     "text": [
      "Available Vehicles:\n",
      "RA120 (ID: 1)\n"
     ]
    }
   ],
   "source": [
    "rental_system.display_available_vehicles()"
   ]
  },
  {
   "cell_type": "markdown",
   "id": "5649b250-7a91-4f73-88a3-82b5283600b8",
   "metadata": {},
   "source": [
    "### 4. Library Catalog Create classes representing a library and a book. Implement methods to add books to the library, borrow books, and display available books."
   ]
  },
  {
   "cell_type": "code",
   "execution_count": 14,
   "id": "7218e91c-72fa-4add-9c3d-4f464668b70d",
   "metadata": {},
   "outputs": [],
   "source": [
    "class Book:\n",
    "    def __init__(self, title, author):\n",
    "        self.title = title\n",
    "        self.author = author\n",
    "        self.available = True\n",
    "\n",
    "    def __str__(self):\n",
    "        return f\"{self.title} by {self.author}\"\n",
    "\n",
    "class Library:\n",
    "    def __init__(self):\n",
    "        self.books = []\n",
    "\n",
    "    def add_book(self, book):\n",
    "        self.books.append(book)\n",
    "        \n",
    "    def borrow_book(self, title):\n",
    "        for book in self.books:\n",
    "            if book.title == title and book.available:\n",
    "                book.available = False\n",
    "                print(\"You have borrowed '{book.title}'.\")\n",
    "                return\n",
    "        print(f\"Sorry, '{title}' is not available\")\n",
    "    \n",
    "    def display_available_books(self):\n",
    "        available_books = [book for book in self.books if book.available]\n",
    "        if available_books:\n",
    "            print(\"Available books:\")\n",
    "            for book in available_books:\n",
    "                print(book)"
   ]
  },
  {
   "cell_type": "code",
   "execution_count": 15,
   "id": "7c6a5a46-a1d1-4dfb-ba4f-fe3be9ece7aa",
   "metadata": {},
   "outputs": [],
   "source": [
    "library = Library()  "
   ]
  },
  {
   "cell_type": "code",
   "execution_count": 16,
   "id": "e63fac6f-c69e-4ffd-8c42-f1f31f19a36b",
   "metadata": {},
   "outputs": [],
   "source": [
    "book1 = Book(\"a for apple and b for bat\", \"akanksha bhagat\")    "
   ]
  },
  {
   "cell_type": "code",
   "execution_count": 17,
   "id": "69d99a1a-e601-4859-ab82-346aa3434b75",
   "metadata": {},
   "outputs": [],
   "source": [
    "library.add_book(book1)"
   ]
  },
  {
   "cell_type": "code",
   "execution_count": 18,
   "id": "15c6f420-86a4-4e7c-80a4-47a0c4341fbe",
   "metadata": {},
   "outputs": [
    {
     "name": "stdout",
     "output_type": "stream",
     "text": [
      "Available books:\n",
      "a for apple and b for bat by akanksha bhagat\n"
     ]
    }
   ],
   "source": [
    "library.display_available_books()"
   ]
  },
  {
   "cell_type": "code",
   "execution_count": 19,
   "id": "380e3110-6e9e-446d-933d-8ee04f642746",
   "metadata": {},
   "outputs": [
    {
     "name": "stdout",
     "output_type": "stream",
     "text": [
      "Sorry, 'c for cat' is not available\n"
     ]
    }
   ],
   "source": [
    "library.borrow_book(\"c for cat\")"
   ]
  },
  {
   "cell_type": "code",
   "execution_count": 20,
   "id": "2748ef48-38b1-4afb-a38a-a9a7c31f5688",
   "metadata": {},
   "outputs": [
    {
     "name": "stdout",
     "output_type": "stream",
     "text": [
      "Available books:\n",
      "a for apple and b for bat by akanksha bhagat\n"
     ]
    }
   ],
   "source": [
    "library.display_available_books()"
   ]
  },
  {
   "cell_type": "code",
   "execution_count": null,
   "id": "d9df1c1d-1865-4e89-99ee-ba4d9639bced",
   "metadata": {},
   "outputs": [],
   "source": []
  },
  {
   "cell_type": "markdown",
   "id": "10014304-bcc1-4e1c-91ca-830ee28b31f2",
   "metadata": {},
   "source": [
    "### 5. Product Inventory Create classes representing a product and an inventory system. Implement methods to add products to the inventory,update product quantity, and display available products."
   ]
  },
  {
   "cell_type": "code",
   "execution_count": 21,
   "id": "a305e4f2-b912-4b22-954e-2348c0392e3e",
   "metadata": {},
   "outputs": [],
   "source": [
    "class Product:\n",
    "    def __init__(self, id, name,  quantity):\n",
    "        self.id = id\n",
    "        self.name = name\n",
    "        self.quantity = quantity\n",
    "\n",
    "    def __str__(self):\n",
    "        return f\"ID: {self.id}, Name: {self.name}, Quantity: {self.quantity}\"\n",
    "\n",
    "class Inventory_System:\n",
    "    def __init__(self):\n",
    "        self.products = []\n",
    "   \n",
    "    def add_product(self, product):\n",
    "        self.products.append(product)\n",
    "        print(f\"Product '{product.name}' added to inventory_system.\")\n",
    "        \n",
    "    def update_product_quantity(self, product_id, new_quantity): \n",
    "        for product in self.products:\n",
    "            if product.id == product_id:\n",
    "                product.quantity = new_quantity   \n",
    "                print(f\"Quantity of '{product.name}' updated to {new_quantity}.\")\n",
    "            else:\n",
    "                print(\"Product with ID {product_id} not found in inventory_System.\")\n",
    "            \n",
    "    def display_available_products(self):\n",
    "            if self.products:\n",
    "                print(\"Available products:\")\n",
    "                for product in self.products:\n",
    "                    print(product)\n",
    "            else:\n",
    "                print(\"No products available in the inventory_System.\")         "
   ]
  },
  {
   "cell_type": "code",
   "execution_count": 22,
   "id": "82b2c2df-708b-47e6-8552-687b28f747cf",
   "metadata": {},
   "outputs": [],
   "source": [
    "inventory = Inventory_System()"
   ]
  },
  {
   "cell_type": "code",
   "execution_count": 23,
   "id": "3dc4eae9-99ea-4d48-80d9-d35a4129dc77",
   "metadata": {},
   "outputs": [],
   "source": [
    "product1 = Product(121, \"car\", 10)"
   ]
  },
  {
   "cell_type": "code",
   "execution_count": 24,
   "id": "0db2064d-7e08-41e6-b125-dd509380cbb9",
   "metadata": {},
   "outputs": [
    {
     "name": "stdout",
     "output_type": "stream",
     "text": [
      "Product 'car' added to inventory_system.\n"
     ]
    }
   ],
   "source": [
    "inventory.add_product(product1)"
   ]
  },
  {
   "cell_type": "code",
   "execution_count": 25,
   "id": "cca3fdfc-cd20-428a-ae21-92bef114894f",
   "metadata": {},
   "outputs": [
    {
     "name": "stdout",
     "output_type": "stream",
     "text": [
      "Available products:\n",
      "ID: 121, Name: car, Quantity: 10\n"
     ]
    }
   ],
   "source": [
    "inventory.display_available_products()"
   ]
  },
  {
   "cell_type": "code",
   "execution_count": 26,
   "id": "9b354ce3-7ef3-4171-80d7-5656ed56b575",
   "metadata": {},
   "outputs": [
    {
     "name": "stdout",
     "output_type": "stream",
     "text": [
      "Quantity of 'car' updated to 25.\n"
     ]
    }
   ],
   "source": [
    "inventory.update_product_quantity(121, 25)"
   ]
  },
  {
   "cell_type": "code",
   "execution_count": 27,
   "id": "0871bfc3-a7d0-4bc3-8e58-1d5d15aa6817",
   "metadata": {},
   "outputs": [
    {
     "name": "stdout",
     "output_type": "stream",
     "text": [
      "Available products:\n",
      "ID: 121, Name: car, Quantity: 25\n"
     ]
    }
   ],
   "source": [
    "inventory.display_available_products()"
   ]
  },
  {
   "cell_type": "code",
   "execution_count": null,
   "id": "638c0917-9771-4f1a-abc1-38c9b71f14df",
   "metadata": {},
   "outputs": [],
   "source": []
  },
  {
   "cell_type": "markdown",
   "id": "2265a3c3-e055-4dfb-9f89-d4885fe02383",
   "metadata": {},
   "source": [
    " ### 6.Shape Calculation Create a class representing a shape with attributes like length, width, and height. Implement methods to calculate the area and perimeter of the shape."
   ]
  },
  {
   "cell_type": "code",
   "execution_count": 28,
   "id": "1cce6ca4-cf9c-4356-8d4f-b2edc460d7ae",
   "metadata": {},
   "outputs": [],
   "source": [
    "class Shape:\n",
    "    def __init__(self, length=0, width=0, height=0):\n",
    "        self.length = length\n",
    "        self.width = width\n",
    "        self.height = height\n",
    "        \n",
    "    def calculate_area(self):\n",
    "        return self.length * self.width\n",
    "\n",
    "    def calculate_perimeter(self):\n",
    "        return 2 * (self.length + self.width)"
   ]
  },
  {
   "cell_type": "code",
   "execution_count": 29,
   "id": "3cae0c48-3144-47c3-a741-56e7555ef1d6",
   "metadata": {},
   "outputs": [],
   "source": [
    "my_shape = Shape(length=1, width=6, height=4)"
   ]
  },
  {
   "cell_type": "code",
   "execution_count": 30,
   "id": "919cd838-808b-4748-9380-f503ad535a93",
   "metadata": {},
   "outputs": [
    {
     "name": "stdout",
     "output_type": "stream",
     "text": [
      "Area: 6\n"
     ]
    }
   ],
   "source": [
    "area = my_shape.calculate_area()\n",
    "print(\"Area:\", area)"
   ]
  },
  {
   "cell_type": "code",
   "execution_count": 31,
   "id": "c4eb1f5d-1ae1-4de2-8324-26ca7b6e43d1",
   "metadata": {},
   "outputs": [
    {
     "name": "stdout",
     "output_type": "stream",
     "text": [
      "Perimeter: 14\n"
     ]
    }
   ],
   "source": [
    "perimeter = my_shape.calculate_perimeter()\n",
    "print(\"Perimeter:\", perimeter)"
   ]
  },
  {
   "cell_type": "code",
   "execution_count": null,
   "id": "caad67fe-055c-4b67-bf89-1df7603f58d7",
   "metadata": {},
   "outputs": [],
   "source": []
  },
  {
   "cell_type": "markdown",
   "id": "d21f8214-6059-45b4-b280-a5c1727f5f76",
   "metadata": {},
   "source": [
    "### 7. Student Management Create a class representing a student with attributes like student ID, name, and grades. Implement methods to calculate the average grade and display student details."
   ]
  },
  {
   "cell_type": "code",
   "execution_count": 32,
   "id": "850ab8dc-b0dd-474c-ba18-d8ad941def68",
   "metadata": {},
   "outputs": [],
   "source": [
    "class Student:\n",
    "    def __init__(self, student_id, name, grades=[]):\n",
    "        self.student_id = student_id\n",
    "        self.name = name\n",
    "        self.grades = grades\n",
    "    \n",
    "    def calculate_average_grade(self):\n",
    "        if not self.grades:\n",
    "            return 0\n",
    "        return sum(self.grades) / len(self.grades)\n",
    "\n",
    "    def display_details(self):\n",
    "        print(\"Student ID:\", self.student_id)\n",
    "        print(\"Name:\", self.name)\n",
    "        print(\"Grades:\", self.grades)\n",
    "        print(\"Average Grade:\", self.calculate_average_grade())\n"
   ]
  },
  {
   "cell_type": "code",
   "execution_count": 33,
   "id": "b3038352-8cdf-417a-a095-f8495fded40f",
   "metadata": {},
   "outputs": [],
   "source": [
    "student1 = Student(\"121\", \"AB\", [1, 10, 50])"
   ]
  },
  {
   "cell_type": "code",
   "execution_count": 34,
   "id": "d08e60e7-3f42-45fa-8e1d-986c80bd704a",
   "metadata": {},
   "outputs": [
    {
     "data": {
      "text/plain": [
       "20.333333333333332"
      ]
     },
     "execution_count": 34,
     "metadata": {},
     "output_type": "execute_result"
    }
   ],
   "source": [
    "student1.calculate_average_grade()"
   ]
  },
  {
   "cell_type": "code",
   "execution_count": 35,
   "id": "71caf888-c3dc-4f5d-81ae-f62726aa1f59",
   "metadata": {},
   "outputs": [
    {
     "name": "stdout",
     "output_type": "stream",
     "text": [
      "Student ID: 121\n",
      "Name: AB\n",
      "Grades: [1, 10, 50]\n",
      "Average Grade: 20.333333333333332\n"
     ]
    }
   ],
   "source": [
    "student1.display_details()"
   ]
  },
  {
   "cell_type": "code",
   "execution_count": null,
   "id": "5d2470f4-13d1-4fe3-b14d-5c0110d9bfbb",
   "metadata": {},
   "outputs": [],
   "source": []
  },
  {
   "cell_type": "markdown",
   "id": "cfbd4ece-5ff3-4199-ba84-d60d8bd8402a",
   "metadata": {},
   "source": [
    "### 8. Email Management Create a class representing an email with attributes like sender, recipient, and subject. Implement methods to send an email and display email details."
   ]
  },
  {
   "cell_type": "code",
   "execution_count": 36,
   "id": "03ecfa55-0f24-435f-b9a1-a6a7afb810d6",
   "metadata": {},
   "outputs": [],
   "source": [
    "class Email:\n",
    "    def __init__(self, sender, recipient, subject ):\n",
    "        self.sender = sender\n",
    "        self.recipient = recipient\n",
    "        self.subject = subject\n",
    "        \n",
    "    def send_email(self):\n",
    "        print(\"Email sent from:\", self.sender)\n",
    "        print(\"Email sent to:\", self.recipient)\n",
    "        print(\"Subject:\", self.subject)\n",
    "       \n",
    "    def display_mail_details(self):\n",
    "        print(\"Sender:\", self.sender)\n",
    "        print(\"Recipient:\", self.recipient)\n",
    "        print(\"Subject:\", self.subject)"
   ]
  },
  {
   "cell_type": "code",
   "execution_count": 37,
   "id": "e7392551-a88e-47ff-a480-480489f2e215",
   "metadata": {},
   "outputs": [
    {
     "name": "stdout",
     "output_type": "stream",
     "text": [
      "Email sent from: akanksha@gmail.com\n",
      "Email sent to: pwskills@gmail.com\n",
      "Subject: doubt in assignment\n"
     ]
    }
   ],
   "source": [
    "email1 = Email(\"akanksha@gmail.com\", \"pwskills@gmail.com\", \"doubt in assignment\")\n",
    "email1.send_email()"
   ]
  },
  {
   "cell_type": "code",
   "execution_count": 38,
   "id": "603efd56-dca1-41ba-a0d8-8d277ad6129b",
   "metadata": {},
   "outputs": [
    {
     "name": "stdout",
     "output_type": "stream",
     "text": [
      "Email Details:\n",
      "Sender: akanksha@gmail.com\n",
      "Recipient: pwskills@gmail.com\n",
      "Subject: doubt in assignment\n"
     ]
    }
   ],
   "source": [
    "print(\"Email Details:\")\n",
    "email1.display_mail_details()"
   ]
  },
  {
   "cell_type": "code",
   "execution_count": null,
   "id": "862d6581-f960-4c84-bb80-2e0a9c7d98d5",
   "metadata": {},
   "outputs": [],
   "source": []
  },
  {
   "cell_type": "markdown",
   "id": "fbb12bb1-2898-4ce0-896c-812993997808",
   "metadata": {},
   "source": [
    "### 9.Social Media Profile Create a class representing a social media profile with attributes like username and posts. Implement methods to add posts, display posts, and search for posts by keyword."
   ]
  },
  {
   "cell_type": "code",
   "execution_count": 47,
   "id": "b742c118-2beb-48d1-854a-b451182a1832",
   "metadata": {},
   "outputs": [],
   "source": [
    "class SocialMediaProfile:\n",
    "    def __init__(self, username):\n",
    "        self.username = username\n",
    "        self.posts = []\n",
    "\n",
    "    def add_post(self, post_content):\n",
    "        self.posts.append(post_content)\n",
    "\n",
    "    def display_posts(self):\n",
    "        [print(post) for post in self.posts]\n",
    "\n",
    "    def search_posts(self, keyword):\n",
    "        [print(post) for post in self.posts if keyword.lower() in post.lower()]"
   ]
  },
  {
   "cell_type": "code",
   "execution_count": 48,
   "id": "0cb842fe-f21b-4210-a0c8-73a4828c1d16",
   "metadata": {},
   "outputs": [],
   "source": [
    "if __name__ == \"__main__\":\n",
    "        profile = SocialMediaProfile(\"example_user\")"
   ]
  },
  {
   "cell_type": "code",
   "execution_count": 49,
   "id": "95fbc16a-5823-4200-b014-64074ebe00f8",
   "metadata": {},
   "outputs": [],
   "source": [
    "profile.add_post(\"Hello its 1st post of instagram.\")"
   ]
  },
  {
   "cell_type": "code",
   "execution_count": 50,
   "id": "57ba7b29-09b7-4ff0-b0c9-35e148099e9b",
   "metadata": {},
   "outputs": [
    {
     "name": "stdout",
     "output_type": "stream",
     "text": [
      "Hello its 1st post of instagram.\n"
     ]
    }
   ],
   "source": [
    "profile.display_posts()"
   ]
  },
  {
   "cell_type": "code",
   "execution_count": 51,
   "id": "2054e02c-3bfd-470b-ae01-cd22a82db61f",
   "metadata": {},
   "outputs": [
    {
     "name": "stdout",
     "output_type": "stream",
     "text": [
      "Hello its 1st post of instagram.\n"
     ]
    }
   ],
   "source": [
    "profile.search_posts(\"1st\")"
   ]
  },
  {
   "cell_type": "code",
   "execution_count": null,
   "id": "674f6041-4cdb-43a3-a98f-f51e206fa0ed",
   "metadata": {},
   "outputs": [],
   "source": []
  },
  {
   "cell_type": "markdown",
   "id": "d91c1042-faf1-4eca-8dfd-d213a2b3f853",
   "metadata": {},
   "source": [
    "### 10.ToDo List Create a class representing a ToDo list with attributes like tasks and due dates. Implement methods to add tasks, mark tasks as completed, and display pending tasks."
   ]
  },
  {
   "cell_type": "code",
   "execution_count": 52,
   "id": "6d4f6fa7-d079-408a-8b79-f558e774c707",
   "metadata": {},
   "outputs": [],
   "source": [
    "class ToDoList:\n",
    "    def __init__(self):\n",
    "        self.tasks = []\n",
    "        \n",
    "    def add_task(self, task, due_date):\n",
    "        self.tasks.append({\"task\": task, \"due_date\": due_date, \"completed\": False})\n",
    "\n",
    "    def mark_task_completed(self, task_index):\n",
    "        if 0 <= task_index < len(self.tasks):\n",
    "            self.tasks[task_index][\"completed\"] = True\n",
    "\n",
    "    def display_pending_tasks(self):\n",
    "        [print(f\"{i+1}. {task['task']} (Due: {task['due_date']})\") for i, task in enumerate(self.tasks) if not task[\"completed\"]]\n",
    "\n",
    "if __name__ == \"__main__\":\n",
    "    todo_list = ToDoList()"
   ]
  },
  {
   "cell_type": "code",
   "execution_count": 53,
   "id": "bce0d7f6-5e30-4df4-a4c3-a00602da00d6",
   "metadata": {},
   "outputs": [],
   "source": [
    "todo_list.add_task(\"doing assignment\", \"15-09-2023\")\n",
    "todo_list.add_task(\"watch movie\", \"16-09-2023\")\n",
    "todo_list.add_task(\"Call mom\", \"17-09-2023\")"
   ]
  },
  {
   "cell_type": "code",
   "execution_count": 54,
   "id": "bd2af7bc-caa7-41b5-b1e0-918e170d9b76",
   "metadata": {},
   "outputs": [
    {
     "name": "stdout",
     "output_type": "stream",
     "text": [
      "1. doing assignment (Due: 15-09-2023)\n",
      "2. watch movie (Due: 16-09-2023)\n",
      "3. Call mom (Due: 17-09-2023)\n"
     ]
    }
   ],
   "source": [
    "todo_list.display_pending_tasks()"
   ]
  },
  {
   "cell_type": "code",
   "execution_count": 55,
   "id": "9a7fa7b9-a1fb-46d5-9b00-ee9ff1fe2b31",
   "metadata": {},
   "outputs": [],
   "source": [
    "todo_list.mark_task_completed(2)"
   ]
  },
  {
   "cell_type": "code",
   "execution_count": 56,
   "id": "78a4cb21-a0a0-42d0-95a1-e6b4e75a938a",
   "metadata": {},
   "outputs": [
    {
     "name": "stdout",
     "output_type": "stream",
     "text": [
      "1. doing assignment (Due: 15-09-2023)\n",
      "2. watch movie (Due: 16-09-2023)\n"
     ]
    }
   ],
   "source": [
    "todo_list.display_pending_tasks()"
   ]
  },
  {
   "cell_type": "code",
   "execution_count": null,
   "id": "e75c538e-e422-46a2-abe5-1c401cb272d7",
   "metadata": {},
   "outputs": [],
   "source": []
  }
 ],
 "metadata": {
  "kernelspec": {
   "display_name": "Python 3 (ipykernel)",
   "language": "python",
   "name": "python3"
  },
  "language_info": {
   "codemirror_mode": {
    "name": "ipython",
    "version": 3
   },
   "file_extension": ".py",
   "mimetype": "text/x-python",
   "name": "python",
   "nbconvert_exporter": "python",
   "pygments_lexer": "ipython3",
   "version": "3.10.8"
  }
 },
 "nbformat": 4,
 "nbformat_minor": 5
}
